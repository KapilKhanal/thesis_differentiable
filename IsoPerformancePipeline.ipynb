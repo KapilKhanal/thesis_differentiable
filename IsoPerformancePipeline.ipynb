{
  "nbformat": 4,
  "nbformat_minor": 0,
  "metadata": {
    "colab": {
      "provenance": [],
      "authorship_tag": "ABX9TyPVx7J9B5yrt6dSTEi8mZs7",
      "include_colab_link": true
    },
    "kernelspec": {
      "name": "python3",
      "display_name": "Python 3"
    },
    "language_info": {
      "name": "python"
    }
  },
  "cells": [
    {
      "cell_type": "markdown",
      "metadata": {
        "id": "view-in-github",
        "colab_type": "text"
      },
      "source": [
        "<a href=\"https://colab.research.google.com/github/KapilKhanal/thesis_differentiable/blob/master/IsoPerformancePipeline.ipynb\" target=\"_parent\"><img src=\"https://colab.research.google.com/assets/colab-badge.svg\" alt=\"Open In Colab\"/></a>"
      ]
    },
    {
      "cell_type": "code",
      "source": [
        "!pip install optimistix"
      ],
      "metadata": {
        "colab": {
          "base_uri": "https://localhost:8080/"
        },
        "id": "cG5L80Ct2rnx",
        "outputId": "a8b62359-1c82-4c3d-d319-f79503c972ea"
      },
      "execution_count": 1,
      "outputs": [
        {
          "output_type": "stream",
          "name": "stdout",
          "text": [
            "Collecting optimistix\n",
            "  Downloading optimistix-0.0.9-py3-none-any.whl.metadata (17 kB)\n",
            "Collecting equinox>=0.11.7 (from optimistix)\n",
            "  Downloading equinox-0.11.9-py3-none-any.whl.metadata (18 kB)\n",
            "Requirement already satisfied: jax>=0.4.28 in /usr/local/lib/python3.10/dist-packages (from optimistix) (0.4.33)\n",
            "Collecting jaxtyping>=0.2.23 (from optimistix)\n",
            "  Downloading jaxtyping-0.2.36-py3-none-any.whl.metadata (6.5 kB)\n",
            "Collecting lineax>=0.0.6 (from optimistix)\n",
            "  Downloading lineax-0.0.7-py3-none-any.whl.metadata (17 kB)\n",
            "Requirement already satisfied: typing-extensions>=4.5.0 in /usr/local/lib/python3.10/dist-packages (from optimistix) (4.12.2)\n",
            "Requirement already satisfied: jaxlib<=0.4.33,>=0.4.33 in /usr/local/lib/python3.10/dist-packages (from jax>=0.4.28->optimistix) (0.4.33)\n",
            "Requirement already satisfied: ml-dtypes>=0.2.0 in /usr/local/lib/python3.10/dist-packages (from jax>=0.4.28->optimistix) (0.4.1)\n",
            "Requirement already satisfied: numpy>=1.24 in /usr/local/lib/python3.10/dist-packages (from jax>=0.4.28->optimistix) (1.26.4)\n",
            "Requirement already satisfied: opt-einsum in /usr/local/lib/python3.10/dist-packages (from jax>=0.4.28->optimistix) (3.4.0)\n",
            "Requirement already satisfied: scipy>=1.10 in /usr/local/lib/python3.10/dist-packages (from jax>=0.4.28->optimistix) (1.13.1)\n",
            "Downloading optimistix-0.0.9-py3-none-any.whl (83 kB)\n",
            "\u001b[2K   \u001b[90m━━━━━━━━━━━━━━━━━━━━━━━━━━━━━━━━━━━━━━━━\u001b[0m \u001b[32m83.6/83.6 kB\u001b[0m \u001b[31m3.5 MB/s\u001b[0m eta \u001b[36m0:00:00\u001b[0m\n",
            "\u001b[?25hDownloading equinox-0.11.9-py3-none-any.whl (179 kB)\n",
            "\u001b[2K   \u001b[90m━━━━━━━━━━━━━━━━━━━━━━━━━━━━━━━━━━━━━━━━\u001b[0m \u001b[32m179.3/179.3 kB\u001b[0m \u001b[31m7.9 MB/s\u001b[0m eta \u001b[36m0:00:00\u001b[0m\n",
            "\u001b[?25hDownloading jaxtyping-0.2.36-py3-none-any.whl (55 kB)\n",
            "\u001b[2K   \u001b[90m━━━━━━━━━━━━━━━━━━━━━━━━━━━━━━━━━━━━━━━━\u001b[0m \u001b[32m55.8/55.8 kB\u001b[0m \u001b[31m2.1 MB/s\u001b[0m eta \u001b[36m0:00:00\u001b[0m\n",
            "\u001b[?25hDownloading lineax-0.0.7-py3-none-any.whl (67 kB)\n",
            "\u001b[2K   \u001b[90m━━━━━━━━━━━━━━━━━━━━━━━━━━━━━━━━━━━━━━━━\u001b[0m \u001b[32m67.3/67.3 kB\u001b[0m \u001b[31m4.8 MB/s\u001b[0m eta \u001b[36m0:00:00\u001b[0m\n",
            "\u001b[?25hInstalling collected packages: jaxtyping, equinox, lineax, optimistix\n",
            "Successfully installed equinox-0.11.9 jaxtyping-0.2.36 lineax-0.0.7 optimistix-0.0.9\n"
          ]
        }
      ]
    },
    {
      "cell_type": "code",
      "source": [
        "import jax.numpy as jnp\n",
        "import jax\n",
        "import optimistix as optx\n",
        "\n",
        "# Define the system of equations for coupled disciplines\n",
        "def equations(vars, data):\n",
        "    x1, z1, z2 = data\n",
        "    y1, y2 = vars\n",
        "    eq1 = y1 - z1**2 - z2 - x1 + y2\n",
        "    eq2 = y2 - jnp.sqrt(y1) - z1 - z2\n",
        "    return jnp.array([eq1, eq2])\n",
        "\n",
        "\n",
        "def objectives(vars,data):\n",
        "    x1, z1, z2 = data\n",
        "    y1, y2 = vars\n",
        "    obj1 = y1 * jnp.exp(y2)\n",
        "    obj2 = y2 * jnp.exp(y1)\n",
        "    obj3 = jnp.tanh(y1 * y2)\n",
        "    return jnp.array([obj1, obj2, obj3])\n",
        "\n",
        "\n",
        "# system objectives\n",
        "def full_system(data):\n",
        "    x1, z1, z2 = data\n",
        "    initial_guess = jnp.array([0.1, 0.0])\n",
        "\n",
        "    # Solve the coupled equations\n",
        "    solver = optx.Newton(rtol=1e-5, atol=1e-5)\n",
        "    solution = optx.root_find(equations, solver,initial_guess, args=data)\n",
        "    y1, y2 = solution.value\n",
        "\n",
        "    # Objectives\n",
        "    obj1 = y1 * jnp.exp(y2)\n",
        "    obj2 = y2 * jnp.exp(y1)\n",
        "    obj3 = jnp.tanh(y1 * y2)\n",
        "    return jnp.array([obj1, obj2, obj3])\n",
        "\n",
        "# Example data / design variable which we can change\n",
        "x1, z1, z2 = 1.0, 2.0, 3.0\n",
        "data = (x1, z1, z2)\n",
        "\n",
        "# Compute the Jacobian of the full objective with respect to data\n",
        "full_system_jacobian = jax.jacobian(full_system)(data)\n",
        "\n",
        "# Solve for y1, y2 - again outside to calculatee jacobian of equation\n",
        "initial_guess = jnp.array([0.1, 0.0])\n",
        "solver = optx.Newton(rtol=1e-5, atol=1e-5)\n",
        "solution = optx.root_find(equations, solver, initial_guess, args=data)\n",
        "y1, y2 = solution.value\n",
        "\n",
        "# Define the regularization parameter - change and compare\n",
        "mu = 1e3\n",
        "\n",
        "# Compute the Jacobian of the equations with respect to vars - obtained via solution.value\n",
        "vars = jnp.array([y1, y2])\n",
        "jacobian_vars = jax.jacobian(objectives, argnums=0)(vars, data)\n",
        "\n",
        "# Compute the regularized Jacobian\n",
        "regularized_jacobian = mu * jacobian_vars\n"
      ],
      "metadata": {
        "id": "xzsHyef0IQdE"
      },
      "execution_count": 52,
      "outputs": []
    },
    {
      "cell_type": "code",
      "source": [
        "# Combine the Jacobians (regualirzed and full objective) into the isoJacobian\n",
        "isoJacobian = jnp.hstack([\n",
        "   jnp.vstack(full_system_jacobian),\n",
        "  jnp.vstack( regularized_jacobian)\n",
        "])\n",
        "\n",
        "# Null space calculation via SVD\n",
        "U, s, Vt = jnp.linalg.svd(isoJacobian)\n",
        "null_space_basis = Vt[-2:]  # Assuming last two are in the null space\n",
        "\n",
        "# Verify if null space basis is orthonormal\n",
        "dot_product = jnp.dot(null_space_basis, null_space_basis.T)\n",
        "tolerance = 1e-3\n",
        "is_orthonormal = jnp.allclose(dot_product, jnp.eye(null_space_basis.shape[0]), atol=tolerance)\n",
        "\n",
        "# Output results\n",
        "print(\"Null space basis:\", null_space_basis)\n",
        "if is_orthonormal:\n",
        "    print(\"The null space basis is orthonormal.\")\n",
        "else:\n",
        "    print(\"The null space basis is not orthonormal.\")\n"
      ],
      "metadata": {
        "colab": {
          "base_uri": "https://localhost:8080/"
        },
        "id": "sZERDitVIrRx",
        "outputId": "b67f7656-ebe6-4a36-e4b1-f98a3415f73e"
      },
      "execution_count": 55,
      "outputs": [
        {
          "output_type": "stream",
          "name": "stdout",
          "text": [
            "Null space basis: [[ 4.7087246e-03 -7.9947454e-01  6.0067827e-01  1.7297617e-03\n",
            "  -9.9972822e-04]\n",
            " [-3.5377166e-03  6.0066599e-01  7.9949087e-01 -1.2996483e-03\n",
            "   7.5114169e-04]]\n",
            "The null space basis is orthonormal.\n"
          ]
        }
      ]
    }
  ]
}